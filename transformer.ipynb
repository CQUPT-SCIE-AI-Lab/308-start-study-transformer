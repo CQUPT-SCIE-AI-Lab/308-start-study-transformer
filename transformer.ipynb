{
 "cells": [
  {
   "cell_type": "code",
   "execution_count": 1,
   "metadata": {},
   "outputs": [],
   "source": [
    "import os\n",
    "import torch\n",
    "from torch import nn\n",
    "import torch.nn.functional as F\n",
    "import math"
   ]
  },
  {
   "cell_type": "markdown",
   "metadata": {},
   "source": [
    "## Embedding\n",
    "\n",
    "#### 在transformer中 Embedding主要由TokenEmbedding和PositionalEmbedding组成\n",
    "\n",
    "- TokenEmbedding: 将对应的单词表中的序号转换成矩阵表示 eg. 输入(batch_size, seq_len), 输出(batch_size, seq_len, feature_len)\n",
    "- PositionalEmbedding: 进行位置编码, 引入位置信息"
   ]
  },
  {
   "cell_type": "code",
   "execution_count": 2,
   "metadata": {},
   "outputs": [
    {
     "name": "stdout",
     "output_type": "stream",
     "text": [
      "X shape: torch.Size([128, 64])\n",
      "output shape: torch.Size([128, 64, 224])\n"
     ]
    }
   ],
   "source": [
    "# TokenEmbedding 直接继承 nn.Embedding 来用即可\n",
    "class TokenEmbedding(nn.Embedding):\n",
    "    def __init__(self, vocab_size, embed_size):\n",
    "        super().__init__(vocab_size, embed_size, padding_idx=0)\n",
    "\n",
    "# 示例使用\n",
    "vocab_size = 1000\n",
    "embed_size = 224\n",
    "batch_size = 128\n",
    "max_len = 64\n",
    "device = torch.device(\"cpu\")\n",
    "\n",
    "net = TokenEmbedding(vocab_size, embed_size).to(device)\n",
    "X = torch.randint(0, vocab_size, (batch_size, max_len)).to(device)\n",
    "output = net(X)\n",
    "\n",
    "# X 是原句转换成词库中对应编码的结果 eg. \"It is a good time to study Deep Learning.\" -> [2, 55, 4, 15, 6, 90, 8, 93, 10]\n",
    "# X 就是 [2, 55, 4, 15, 6, 90, 8, 93, 10] 这样的一个向量\n",
    "print(\"X shape:\", X.shape)\n",
    "print(\"output shape:\", output.shape)"
   ]
  },
  {
   "cell_type": "code",
   "execution_count": 3,
   "metadata": {},
   "outputs": [
    {
     "name": "stdout",
     "output_type": "stream",
     "text": [
      "X shape: torch.Size([128, 64, 224])\n",
      "output shape: torch.Size([64, 224])\n"
     ]
    }
   ],
   "source": [
    "# PositionalEmbedding 有多种可实现方式，比如正余弦编码或者学习得到的参数\n",
    "\n",
    "# 学习得到的参数\n",
    "class PositionalEmbedding(nn.Module):\n",
    "    def __init__(self, d_model, max_len=64):\n",
    "        super(PositionalEmbedding, self).__init__()\n",
    "        # 初始化一个形状为 (1, max_len, d_model) 的可学习参数\n",
    "        self.pe = nn.Parameter(torch.randn(1, max_len, d_model))\n",
    "    \n",
    "    def forward(self, x):\n",
    "        seq_len = x.shape[1]\n",
    "        return self.pe[:, :seq_len].to(x.device)\n",
    "\n",
    "# 正余弦编码(\"Attention is All You Need\" 原文中使用的方式)\n",
    "class PositionalEmbedding(nn.Module):\n",
    "    def __init__(self, d_model, max_len=64):\n",
    "        super(PositionalEmbedding, self).__init__()\n",
    "        self.encoding = torch.zeros(max_len, d_model)\n",
    "        self.encoding.requires_grad_ = False\n",
    "\n",
    "        position = torch.arange(0, max_len).unsqueeze(1).float()\n",
    "        _2i = torch.arange(0, d_model, 2).float()\n",
    "\n",
    "        self.encoding[:, 0::2] = torch.sin(position / (10000 ** (_2i / d_model)))\n",
    "        self.encoding[:, 1::2] = torch.cos(position / (10000 ** (_2i / d_model)))\n",
    "        \n",
    "    def forward(self, x):\n",
    "        seq_len = x.shape[1]\n",
    "        return self.encoding[:seq_len, :].to(x.device)\n",
    "    \n",
    "\n",
    "# 示例使用\n",
    "batch_size = 128\n",
    "max_len = 64\n",
    "d_model = 224 # d_model就是Embedding之后的特征维度\n",
    "device = torch.device(\"cpu\")\n",
    "\n",
    "PE = PositionalEmbedding(d_model, max_len).to(device)\n",
    "X = torch.randn(128, max_len, d_model).float().to(device)\n",
    "output = PE(X)\n",
    "\n",
    "print(f\"X shape: {X.shape}\")\n",
    "print(f\"output shape: {output.shape}\")"
   ]
  },
  {
   "cell_type": "code",
   "execution_count": 4,
   "metadata": {},
   "outputs": [
    {
     "name": "stdout",
     "output_type": "stream",
     "text": [
      "X shape: torch.Size([128, 64])\n",
      "output shape: torch.Size([128, 64, 224])\n"
     ]
    }
   ],
   "source": [
    "# 将 TokenEmbedding 和 PositionalEmbedding 结合起来\n",
    "class TransformerEmbedding(nn.Module):\n",
    "    def __init__(self, vocab_size, max_len, d_model, dropout=0.1):\n",
    "        super(TransformerEmbedding, self).__init__()\n",
    "        self.token_embedding = TokenEmbedding(vocab_size, d_model)\n",
    "        self.positional_embedding = PositionalEmbedding(d_model, max_len)\n",
    "        self.dropout = nn.Dropout(dropout)\n",
    "\n",
    "    def forward(self, x):\n",
    "        token_embed = self.token_embedding(x)\n",
    "        pos_embed = self.positional_embedding(x)\n",
    "        return self.dropout(token_embed + pos_embed)\n",
    "    \n",
    "# 示例使用\n",
    "vocab_size = 1000\n",
    "batch_size = 128\n",
    "max_len = 64\n",
    "d_model = 224\n",
    "device = torch.device(\"cpu\")\n",
    "\n",
    "net = TransformerEmbedding(vocab_size, max_len, d_model).to(device)\n",
    "X = torch.randint(0, vocab_size, (batch_size, max_len)).to(device)\n",
    "output = net(X)\n",
    "print(f\"X shape: {X.shape}\")\n",
    "print(f\"output shape: {output.shape}\")"
   ]
  },
  {
   "cell_type": "markdown",
   "metadata": {},
   "source": [
    "## Multi-Head Attention"
   ]
  },
  {
   "cell_type": "code",
   "execution_count": 5,
   "metadata": {},
   "outputs": [
    {
     "name": "stdout",
     "output_type": "stream",
     "text": [
      "X shape : torch.Size([128, 64, 224])\n",
      "output shape : torch.Size([128, 64, 224])\n"
     ]
    }
   ],
   "source": [
    "class MultiHeadAttention(nn.Module):\n",
    "    def __init__(self, d_model, n_head):\n",
    "        super(MultiHeadAttention, self).__init__()\n",
    "        self.d_model = d_model\n",
    "        self.n_head = n_head\n",
    "        self.head_dim = self.d_model // n_head\n",
    "        \n",
    "        self.wq = nn.Linear(d_model, d_model)\n",
    "        self.wk = nn.Linear(d_model, d_model)\n",
    "        self.wv = nn.Linear(d_model, d_model)\n",
    "        self.wo = nn.Linear(d_model, d_model)\n",
    "        \n",
    "    def forward(self, q, k, v, mask=None):\n",
    "        batch_size, time, dimension = q.shape\n",
    "\n",
    "        Q = self.wq(q)\n",
    "        K = self.wk(k)\n",
    "        V = self.wv(v)\n",
    "\n",
    "        Q = Q.view(batch_size, time, self.n_head, self.head_dim).permute(0, 2, 1, 3) # (batch_size, n_head, time, head_dim)\n",
    "        K = K.view(batch_size, time, self.n_head, self.head_dim).permute(0, 2, 1, 3)\n",
    "        V = V.view(batch_size, time, self.n_head, self.head_dim).permute(0, 2, 1, 3)\n",
    "\n",
    "        score = Q @ K.transpose(2, 3) / math.sqrt(self.head_dim) # score: (batch_size, n_head, time, time)\n",
    "        if mask is not None: # Masked Multi-Head Attention 中的 mask\n",
    "            score = score.masked_fill(mask == 0, float(\"-inf\"))\n",
    "\n",
    "        attention = F.softmax(score, dim=-1)\n",
    "        out = attention @ V # out shape : (batch_size, n_head, time, head_dim)\n",
    "        out = out.permute(0, 2, 1, 3).contiguous().view(batch_size, time, dimension)\n",
    "\n",
    "        output = self.wo(out)\n",
    "        return output\n",
    "    \n",
    "# 示例使用\n",
    "batch_size = 128\n",
    "seq_len = 64\n",
    "d_model = 224\n",
    "n_head = 2\n",
    "device = torch.device(\"cpu\")\n",
    "\n",
    "attention_model = MultiHeadAttention(d_model, n_head).to(device)\n",
    "X = torch.randn((batch_size, seq_len, d_model)).to(device)\n",
    "output = attention_model(X, X, X, None)\n",
    "\n",
    "print(f\"X shape : {X.shape}\")\n",
    "print(f\"output shape : {output.shape}\")"
   ]
  },
  {
   "cell_type": "markdown",
   "metadata": {},
   "source": [
    "## Norm"
   ]
  },
  {
   "cell_type": "code",
   "execution_count": 6,
   "metadata": {},
   "outputs": [
    {
     "name": "stdout",
     "output_type": "stream",
     "text": [
      "X shape : torch.Size([128, 64, 224])\n",
      "output shape : torch.Size([128, 64, 224])\n"
     ]
    }
   ],
   "source": [
    "class LayerNorm(nn.Module):\n",
    "    def __init__(self, d_model, eps=1e-5):\n",
    "        super(LayerNorm, self).__init__()\n",
    "        self.gamma = nn.Parameter(torch.ones(d_model))\n",
    "        self.beta = nn.Parameter(torch.zeros(d_model))\n",
    "        self.eps = eps\n",
    "\n",
    "    def forward(self, x):\n",
    "        x_mean = x.mean(-1, keepdim=True)\n",
    "        x_var = x.var(-1, unbiased=False, keepdim=True)\n",
    "        out = (x - x_mean) / (x_var + self.eps).sqrt()\n",
    "        out = self.gamma * out + self.beta\n",
    "        return out\n",
    "    \n",
    "# 示例使用\n",
    "batch_size = 128\n",
    "seq_len = 64\n",
    "d_model = 224\n",
    "device = torch.device(\"cpu\")\n",
    "\n",
    "norm = LayerNorm(d_model).to(device)\n",
    "X = torch.randn((batch_size, seq_len, d_model)).to(device)\n",
    "output = norm(X)\n",
    "\n",
    "print(f\"X shape : {X.shape}\")\n",
    "print(f\"output shape : {output.shape}\")"
   ]
  },
  {
   "cell_type": "markdown",
   "metadata": {},
   "source": [
    "## PositionwiseFeedForward(FFN)"
   ]
  },
  {
   "cell_type": "code",
   "execution_count": 7,
   "metadata": {},
   "outputs": [
    {
     "name": "stdout",
     "output_type": "stream",
     "text": [
      "X shape : torch.Size([128, 64, 224])\n",
      "output shape : torch.Size([128, 64, 224])\n"
     ]
    }
   ],
   "source": [
    "class PositionwiseFeedForward(nn.Module):\n",
    "    def __init__(self, d_model, hidden_dim, dropout=0.1):\n",
    "        super(PositionwiseFeedForward, self).__init__()\n",
    "        self.fc1 = nn.Linear(d_model, hidden_dim)\n",
    "        self.fc2 = nn.Linear(hidden_dim, d_model)\n",
    "        self.dropout = nn.Dropout(dropout)\n",
    "\n",
    "    def forward(self, x):\n",
    "        x = self.fc1(x)\n",
    "        x = F.relu(x)\n",
    "        x = self.dropout(x)\n",
    "        x = self.fc2(x)\n",
    "        return x\n",
    "    \n",
    "# 示例使用\n",
    "batch_size = 128\n",
    "seq_len = 64\n",
    "d_model = 224\n",
    "hidden_dim = 512\n",
    "dropout = 0.1\n",
    "device = torch.device(\"cpu\")\n",
    "\n",
    "ffn = PositionwiseFeedForward(d_model, hidden_dim, dropout).to(device)\n",
    "X = torch.randn((batch_size, seq_len, d_model)).to(device)\n",
    "output = ffn(X)\n",
    "\n",
    "print(f\"X shape : {X.shape}\")\n",
    "print(f\"output shape : {output.shape}\")"
   ]
  },
  {
   "cell_type": "markdown",
   "metadata": {},
   "source": [
    "## EncoderLayer"
   ]
  },
  {
   "cell_type": "code",
   "execution_count": 8,
   "metadata": {},
   "outputs": [
    {
     "name": "stdout",
     "output_type": "stream",
     "text": [
      "X shape : torch.Size([128, 64, 224])\n",
      "output shape : torch.Size([128, 64, 224])\n"
     ]
    }
   ],
   "source": [
    "class EncoderLayer(nn.Module):\n",
    "    def __init__(self, d_model, n_head, ffn_hidden_dim, dropout=0.1):\n",
    "        super(EncoderLayer, self).__init__()\n",
    "        self.attention = MultiHeadAttention(d_model, n_head)\n",
    "        self.dropout1 = nn.Dropout(dropout)\n",
    "        self.norm1 = LayerNorm(d_model)\n",
    "        self.ffn = PositionwiseFeedForward(d_model, ffn_hidden_dim, dropout)\n",
    "        self.norm2 = LayerNorm(d_model)\n",
    "\n",
    "    def forward(self, x, mask=None):\n",
    "        _x = x\n",
    "        x = self.attention(x, x, x, mask)\n",
    "        x = self.dropout1(x)\n",
    "        x = self.norm1(x + _x)\n",
    "\n",
    "        _x = x\n",
    "        x = self.ffn(x)\n",
    "        x = self.norm2(x + _x)\n",
    "        return x\n",
    "    \n",
    "# 示例使用\n",
    "batch_size = 128\n",
    "seq_len = 64\n",
    "d_model = 224\n",
    "n_head = 2\n",
    "ffn_hidden_dim = 512\n",
    "dropout = 0.1\n",
    "device = torch.device(\"cpu\")\n",
    "\n",
    "encoderlayer = EncoderLayer(d_model, n_head, ffn_hidden_dim, dropout).to(device)\n",
    "X = torch.randn((batch_size, seq_len, d_model)).to(device)\n",
    "output = encoderlayer(X)\n",
    "\n",
    "print(f\"X shape : {X.shape}\")\n",
    "print(f\"output shape : {output.shape}\")"
   ]
  },
  {
   "cell_type": "markdown",
   "metadata": {},
   "source": [
    "## DecoderLayer"
   ]
  },
  {
   "cell_type": "code",
   "execution_count": 9,
   "metadata": {},
   "outputs": [
    {
     "name": "stdout",
     "output_type": "stream",
     "text": [
      "X shape : torch.Size([128, 64, 224])\n",
      "output shape : torch.Size([128, 64, 224])\n"
     ]
    }
   ],
   "source": [
    "class DecoderLayer(nn.Module):\n",
    "    def __init__(self, d_model, n_head, ffn_hidden_dim, dropout=0.1):\n",
    "        super(DecoderLayer, self).__init__()\n",
    "        self.attention1 = MultiHeadAttention(d_model, n_head)\n",
    "        self.dropout1 = nn.Dropout(dropout)\n",
    "        self.norm1 = LayerNorm(d_model)\n",
    "\n",
    "        self.cross_attention = MultiHeadAttention(d_model, n_head)\n",
    "        self.dropout2 = nn.Dropout(dropout)\n",
    "        self.norm2 = LayerNorm(d_model)\n",
    "\n",
    "        self.ffn = PositionwiseFeedForward(d_model, ffn_hidden_dim, dropout)\n",
    "        self.norm3 = LayerNorm(d_model)\n",
    "\n",
    "    def forward(self, dec_x, enc_x, t_mask, s_mask):\n",
    "        _x = dec_x\n",
    "        x = self.attention1(dec_x, dec_x, dec_x, t_mask) # 下三角掩码\n",
    "        x = self.dropout1(x)\n",
    "        x = self.norm1(x + _x)\n",
    "\n",
    "        if enc_x is not None:\n",
    "            _x = x\n",
    "            x = self.cross_attention(x, enc_x, enc_x, s_mask)\n",
    "            x = self.dropout2(x)\n",
    "            x = self.norm2(x + _x)\n",
    "        \n",
    "        _x = x\n",
    "        x = self.ffn(x)\n",
    "        x = self.norm3(x + _x)\n",
    "\n",
    "        return x\n",
    "    \n",
    "# 示例使用\n",
    "batch_size = 128\n",
    "seq_len = 64\n",
    "d_model = 224\n",
    "n_head = 2\n",
    "ffn_hidden_dim = 512\n",
    "dropout = 0.1\n",
    "device = torch.device(\"cpu\")\n",
    "\n",
    "decoderlayer = DecoderLayer(d_model, n_head, ffn_hidden_dim, dropout).to(device)\n",
    "X = torch.randn((batch_size, seq_len, d_model)).to(device)\n",
    "enc_X = torch.randn((batch_size, seq_len, d_model)).to(device)\n",
    "t_mask = (torch.tril(torch.ones(seq_len, seq_len)) > 0).to(device) # 下三角掩码\n",
    "s_mask = torch.ones(seq_len, seq_len).to(device) # 源掩码, 这里是全1生成，实际使用应根据实际考虑\n",
    "output = decoderlayer(X, enc_X, t_mask, s_mask)\n",
    "\n",
    "print(f\"X shape : {X.shape}\")\n",
    "print(f\"output shape : {output.shape}\")"
   ]
  },
  {
   "cell_type": "markdown",
   "metadata": {},
   "source": [
    "## Encoder"
   ]
  },
  {
   "cell_type": "code",
   "execution_count": 10,
   "metadata": {},
   "outputs": [
    {
     "name": "stdout",
     "output_type": "stream",
     "text": [
      "X shape : torch.Size([128, 64, 224])\n",
      "output shape : torch.Size([128, 64, 224])\n"
     ]
    }
   ],
   "source": [
    "class Encoder(nn.Module):\n",
    "    def __init__(self, d_model, n_head, ffn_hidden_dim, n_layer, dropout=0.1):\n",
    "        super(Encoder, self).__init__()\n",
    "        self.layers = nn.ModuleList(\n",
    "            [EncoderLayer(d_model, n_head, ffn_hidden_dim, dropout) for _ in range(n_layer)]\n",
    "        )\n",
    "\n",
    "    def forward(self, x, s_mask):\n",
    "        for layer in self.layers:\n",
    "            x = layer(x, s_mask)\n",
    "        return x\n",
    "    \n",
    "# 示例使用\n",
    "batch_size = 128\n",
    "seq_len = 64\n",
    "d_model = 224\n",
    "n_head = 2\n",
    "ffn_hidden_dim = 512\n",
    "n_layer = 4\n",
    "dropout = 0.1\n",
    "device = torch.device(\"cpu\")\n",
    "\n",
    "encoder = Encoder(d_model, n_head, ffn_hidden_dim, n_layer, dropout).to(device)\n",
    "X = torch.randn((batch_size, seq_len, d_model)).to(device)\n",
    "s_mask = torch.ones(seq_len, seq_len).to(device) # 源掩码\n",
    "output = encoder(X, s_mask)\n",
    "\n",
    "print(f\"X shape : {X.shape}\")\n",
    "print(f\"output shape : {output.shape}\")"
   ]
  },
  {
   "cell_type": "markdown",
   "metadata": {},
   "source": [
    "## Decoder"
   ]
  },
  {
   "cell_type": "code",
   "execution_count": 11,
   "metadata": {},
   "outputs": [
    {
     "name": "stdout",
     "output_type": "stream",
     "text": [
      "X shape : torch.Size([128, 64, 224])\n",
      "output shape : torch.Size([128, 64, 224])\n"
     ]
    }
   ],
   "source": [
    "class Decoder(nn.Module):\n",
    "    def __init__(self, d_model, n_head, ffn_hidden_dim, n_layer, dropout=0.1):\n",
    "        super(Decoder, self).__init__()\n",
    "        self.layers = nn.ModuleList(\n",
    "            [DecoderLayer(d_model, n_head, ffn_hidden_dim, dropout) for _ in range(n_layer)]\n",
    "        )\n",
    "\n",
    "    def forward(self, dec_x, enc_x, t_mask, s_mask):\n",
    "        for layer in self.layers:\n",
    "            dec_x = layer(dec_x, enc_x, t_mask, s_mask)\n",
    "        return dec_x\n",
    "    \n",
    "# 示例使用\n",
    "batch_size = 128\n",
    "seq_len = 64\n",
    "d_model = 224\n",
    "n_head = 2\n",
    "ffn_hidden_dim = 512\n",
    "n_layer = 4\n",
    "dropout = 0.1\n",
    "device = torch.device(\"cpu\")\n",
    "\n",
    "decoder = Decoder(d_model, n_head, ffn_hidden_dim, n_layer, dropout).to(device)\n",
    "X = torch.randn((batch_size, seq_len, d_model)).to(device)\n",
    "enc_X = torch.randn((batch_size, seq_len, d_model)).to(device)\n",
    "t_mask = (torch.tril(torch.ones(seq_len, seq_len)) > 0).to(device) # 下三角掩码\n",
    "s_mask = torch.ones(seq_len, seq_len).to(device) # 源掩码, 这里是全1生成，实际使用应根据实际考虑\n",
    "output = decoder(X, enc_X, t_mask, s_mask)\n",
    "\n",
    "print(f\"X shape : {X.shape}\")\n",
    "print(f\"output shape : {output.shape}\")"
   ]
  },
  {
   "cell_type": "markdown",
   "metadata": {},
   "source": [
    "## Transformer"
   ]
  },
  {
   "cell_type": "code",
   "execution_count": 12,
   "metadata": {},
   "outputs": [
    {
     "name": "stdout",
     "output_type": "stream",
     "text": [
      "src shape : torch.Size([128, 64])\n",
      "trg shape : torch.Size([128, 64])\n",
      "output shape : torch.Size([128, 64, 1000])\n"
     ]
    }
   ],
   "source": [
    "class Transformer(nn.Module):\n",
    "    def __init__(self, src_pad_idx, trg_pad_idx, enc_vocab_size, dec_vocab_size, max_len, d_model, n_head, ffn_hidden_dim, n_encoderlayer, n_decoderlayer, dropout=0.1):\n",
    "        super(Transformer, self).__init__()\n",
    "        self.src_pad_idx = src_pad_idx # encoder的输入中填充符的数字表示\n",
    "        self.trg_pad_idx = trg_pad_idx # decoder的输入中填充符的数字表示\n",
    "\n",
    "        self.encoder_embedding = TransformerEmbedding(enc_vocab_size, max_len, d_model, dropout)\n",
    "        self.decoder_embedding = TransformerEmbedding(dec_vocab_size, max_len, d_model, dropout)\n",
    "\n",
    "        self.encoder = Encoder(d_model, n_head, ffn_hidden_dim, n_encoderlayer, dropout)\n",
    "        self.decoder = Decoder(d_model, n_head, ffn_hidden_dim, n_decoderlayer, dropout)\n",
    "\n",
    "        self.fc = nn.Linear(d_model, dec_vocab_size)\n",
    "\n",
    "    def make_pad_mask(self, q, k, pad_idx_q, pad_idx_k):\n",
    "        len_q, len_k = q.shape[1], k.shape[1]\n",
    "\n",
    "        # Q : (batch_size, n_head, time, time)\n",
    "        # q : (batch_size, time)\n",
    "        q = q.ne(pad_idx_q).unsqueeze(1).unsqueeze(3) # (batch_size, 1, time, 1)\n",
    "        q = q.repeat(1, 1, 1, len_k) # (batch_size, 1, time, len_k)\n",
    "\n",
    "        k = k.ne(pad_idx_k).unsqueeze(1).unsqueeze(3) # (batch_size, 1, time, 1)\n",
    "        k = k.repeat(1, 1, 1, len_q) # (batch_size, 1, time, len_q)\n",
    "\n",
    "        mask = q & k\n",
    "        return mask\n",
    "    \n",
    "    def make_casual_mask(self, q, k): # 下三角mask，用来让decoder只看到当前位置及以前的信息\n",
    "        len_q, len_k = q.shape[1], k.shape[1]\n",
    "        mask = torch.tril(torch.ones((len_q, len_k)).type(torch.BoolTensor)).to(q.device)\n",
    "        return mask\n",
    "\n",
    "    def forward(self, src, trg):\n",
    "        src_mask = self.make_pad_mask(src, src, self.src_pad_idx, self.src_pad_idx)\n",
    "        trg_mask = self.make_pad_mask(trg, trg, self.trg_pad_idx, self.trg_pad_idx) * self.make_casual_mask(trg, trg)\n",
    "        src_trg_mask = self.make_pad_mask(trg, src, self.trg_pad_idx, self.src_pad_idx)\n",
    "\n",
    "        enc_X = self.encoder_embedding(src)\n",
    "        dec_X = self.decoder_embedding(trg)\n",
    "\n",
    "        enc = self.encoder(enc_X, src_mask)\n",
    "        dec = self.decoder(dec_X, enc, trg_mask, src_trg_mask)\n",
    "\n",
    "        out = self.fc(dec)\n",
    "        out = F.softmax(out, dim=-1)\n",
    "        return out\n",
    "    \n",
    "# 示例使用\n",
    "src_pad_idx = 0\n",
    "trg_pad_idx = 0\n",
    "enc_vocab_size = 1000\n",
    "dec_vocab_size = 1000\n",
    "batch_size = 128\n",
    "max_len = 64\n",
    "d_model = 224\n",
    "n_head = 2\n",
    "ffn_hidden_dim = 512\n",
    "n_encoderlayer = 4\n",
    "n_decoderlayer = 4\n",
    "dropout = 0.1\n",
    "device = torch.device(\"cpu\")\n",
    "\n",
    "transformer = Transformer(src_pad_idx, \n",
    "                          trg_pad_idx, \n",
    "                          enc_vocab_size, \n",
    "                          dec_vocab_size, \n",
    "                          max_len, \n",
    "                          d_model,\n",
    "                          n_head,\n",
    "                          ffn_hidden_dim,\n",
    "                          n_encoderlayer, \n",
    "                          n_decoderlayer, \n",
    "                          dropout).to(device)\n",
    "\n",
    "src = torch.randint(0, enc_vocab_size, (batch_size, max_len)).to(device)\n",
    "trg = torch.randint(0, dec_vocab_size, (batch_size, max_len)).to(device)\n",
    "output = transformer(src, trg)\n",
    "\n",
    "print(f\"src shape : {src.shape}\")\n",
    "print(f\"trg shape : {trg.shape}\")\n",
    "print(f\"output shape : {output.shape}\")"
   ]
  },
  {
   "cell_type": "code",
   "execution_count": null,
   "metadata": {},
   "outputs": [],
   "source": []
  }
 ],
 "metadata": {
  "kernelspec": {
   "display_name": "pytorch",
   "language": "python",
   "name": "python3"
  },
  "language_info": {
   "codemirror_mode": {
    "name": "ipython",
    "version": 3
   },
   "file_extension": ".py",
   "mimetype": "text/x-python",
   "name": "python",
   "nbconvert_exporter": "python",
   "pygments_lexer": "ipython3",
   "version": "3.8.17"
  }
 },
 "nbformat": 4,
 "nbformat_minor": 2
}
